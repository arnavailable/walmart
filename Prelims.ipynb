{
 "cells": [
  {
   "cell_type": "code",
   "execution_count": 2,
   "metadata": {},
   "outputs": [],
   "source": [
    "# Import Libraries\n",
    "import numpy as np\n",
    "import pandas as pd\n",
    "import matplotlib.pyplot as plt\n",
    "import seaborn as sns\n",
    "import random"
   ]
  },
  {
   "cell_type": "code",
   "execution_count": 3,
   "metadata": {},
   "outputs": [],
   "source": [
    "# Load Data\n",
    "data = pd.read_csv('UCLA_dataset.csv')"
   ]
  },
  {
   "cell_type": "code",
   "execution_count": 4,
   "metadata": {},
   "outputs": [
    {
     "data": {
      "text/html": [
       "<div>\n",
       "<style scoped>\n",
       "    .dataframe tbody tr th:only-of-type {\n",
       "        vertical-align: middle;\n",
       "    }\n",
       "\n",
       "    .dataframe tbody tr th {\n",
       "        vertical-align: top;\n",
       "    }\n",
       "\n",
       "    .dataframe thead th {\n",
       "        text-align: right;\n",
       "    }\n",
       "</style>\n",
       "<table border=\"1\" class=\"dataframe\">\n",
       "  <thead>\n",
       "    <tr style=\"text-align: right;\">\n",
       "      <th></th>\n",
       "      <th>user_id</th>\n",
       "      <th>date</th>\n",
       "      <th>arm</th>\n",
       "      <th>click</th>\n",
       "    </tr>\n",
       "  </thead>\n",
       "  <tbody>\n",
       "    <tr>\n",
       "      <th>0</th>\n",
       "      <td>1</td>\n",
       "      <td>2024-06-30</td>\n",
       "      <td>arm_3</td>\n",
       "      <td>1</td>\n",
       "    </tr>\n",
       "    <tr>\n",
       "      <th>1</th>\n",
       "      <td>2</td>\n",
       "      <td>2024-06-30</td>\n",
       "      <td>arm_3</td>\n",
       "      <td>0</td>\n",
       "    </tr>\n",
       "    <tr>\n",
       "      <th>2</th>\n",
       "      <td>3</td>\n",
       "      <td>2024-06-30</td>\n",
       "      <td>arm_2</td>\n",
       "      <td>0</td>\n",
       "    </tr>\n",
       "    <tr>\n",
       "      <th>3</th>\n",
       "      <td>4</td>\n",
       "      <td>2024-06-30</td>\n",
       "      <td>arm_2</td>\n",
       "      <td>1</td>\n",
       "    </tr>\n",
       "    <tr>\n",
       "      <th>4</th>\n",
       "      <td>5</td>\n",
       "      <td>2024-06-30</td>\n",
       "      <td>arm_2</td>\n",
       "      <td>0</td>\n",
       "    </tr>\n",
       "    <tr>\n",
       "      <th>...</th>\n",
       "      <td>...</td>\n",
       "      <td>...</td>\n",
       "      <td>...</td>\n",
       "      <td>...</td>\n",
       "    </tr>\n",
       "    <tr>\n",
       "      <th>298</th>\n",
       "      <td>299</td>\n",
       "      <td>2024-06-30</td>\n",
       "      <td>arm_3</td>\n",
       "      <td>0</td>\n",
       "    </tr>\n",
       "    <tr>\n",
       "      <th>299</th>\n",
       "      <td>300</td>\n",
       "      <td>2024-06-30</td>\n",
       "      <td>arm_1</td>\n",
       "      <td>1</td>\n",
       "    </tr>\n",
       "    <tr>\n",
       "      <th>300</th>\n",
       "      <td>301</td>\n",
       "      <td>2024-06-30</td>\n",
       "      <td>arm_3</td>\n",
       "      <td>0</td>\n",
       "    </tr>\n",
       "    <tr>\n",
       "      <th>301</th>\n",
       "      <td>302</td>\n",
       "      <td>2024-06-30</td>\n",
       "      <td>arm_1</td>\n",
       "      <td>0</td>\n",
       "    </tr>\n",
       "    <tr>\n",
       "      <th>302</th>\n",
       "      <td>303</td>\n",
       "      <td>2024-06-30</td>\n",
       "      <td>arm_2</td>\n",
       "      <td>0</td>\n",
       "    </tr>\n",
       "  </tbody>\n",
       "</table>\n",
       "<p>303 rows × 4 columns</p>\n",
       "</div>"
      ],
      "text/plain": [
       "     user_id        date    arm  click\n",
       "0          1  2024-06-30  arm_3      1\n",
       "1          2  2024-06-30  arm_3      0\n",
       "2          3  2024-06-30  arm_2      0\n",
       "3          4  2024-06-30  arm_2      1\n",
       "4          5  2024-06-30  arm_2      0\n",
       "..       ...         ...    ...    ...\n",
       "298      299  2024-06-30  arm_3      0\n",
       "299      300  2024-06-30  arm_1      1\n",
       "300      301  2024-06-30  arm_3      0\n",
       "301      302  2024-06-30  arm_1      0\n",
       "302      303  2024-06-30  arm_2      0\n",
       "\n",
       "[303 rows x 4 columns]"
      ]
     },
     "execution_count": 4,
     "metadata": {},
     "output_type": "execute_result"
    }
   ],
   "source": [
    "data"
   ]
  },
  {
   "cell_type": "code",
   "execution_count": 5,
   "metadata": {},
   "outputs": [
    {
     "data": {
      "text/plain": [
       "arm\n",
       "arm_3    121\n",
       "arm_2    101\n",
       "arm_1     81\n",
       "Name: count, dtype: int64"
      ]
     },
     "execution_count": 5,
     "metadata": {},
     "output_type": "execute_result"
    }
   ],
   "source": [
    "data.arm.value_counts()"
   ]
  },
  {
   "cell_type": "code",
   "execution_count": 28,
   "metadata": {},
   "outputs": [],
   "source": [
    "def epsilon_greedy(df, epsilon):\n",
    "    np.random.seed(42)\n",
    "    arms = df['arm'].unique()  # get unique arms\n",
    "    rewards = {arm: 0 for arm in arms}  # Initialize rewards\n",
    "    counts = {arm: 0 for arm in arms}   # Initialize counts\n",
    "    \n",
    "    for _, row in df.iterrows():\n",
    "        if random.uniform(0, 1) < epsilon:  # Explore\n",
    "            arm = random.choice(arms)\n",
    "        else:  # Exploit\n",
    "            arm = max(rewards, key=rewards.get)\n",
    "        \n",
    "        click = row['click']  # Use click as reward (1 or 0)\n",
    "        counts[arm] += 1\n",
    "        rewards[arm] += (click - rewards[arm]) / counts[arm]\n",
    "        \n",
    "    return rewards, counts"
   ]
  },
  {
   "cell_type": "code",
   "execution_count": 23,
   "metadata": {},
   "outputs": [
    {
     "data": {
      "text/plain": [
       "({'arm_3': 52, 'arm_2': 31, 'arm_1': 54},\n",
       " {'arm_3': 66, 'arm_2': 41, 'arm_1': 65})"
      ]
     },
     "execution_count": 23,
     "metadata": {},
     "output_type": "execute_result"
    }
   ],
   "source": [
    "def thompson_sampling(df):\n",
    "    arms = df['arm'].unique()\n",
    "    alpha = {arm: 1 for arm in arms}\n",
    "    beta = {arm: 1 for arm in arms}\n",
    "    \n",
    "    for _, row in df.iterrows():\n",
    "        # Sample from Beta distribution for each arm\n",
    "        sampled_values = {arm: np.random.beta(alpha[arm], beta[arm]) for arm in arms}\n",
    "        arm = max(sampled_values, key=sampled_values.get)  # Choose arm with highest sample\n",
    "        \n",
    "        click = row['click']  # Use click as reward\n",
    "        if click == 1:\n",
    "            alpha[arm] += 1\n",
    "        else:\n",
    "            beta[arm] += 1\n",
    "    \n",
    "    return alpha, beta\n",
    "\n",
    "thompson_sampling(data)"
   ]
  },
  {
   "cell_type": "code",
   "execution_count": 30,
   "metadata": {},
   "outputs": [
    {
     "name": "stdout",
     "output_type": "stream",
     "text": [
      "0.1 {'arm_3': 0.4532374100719426, 'arm_2': 0.28571428571428575, 'arm_1': 0.36363636363636365} {'arm_3': 278, 'arm_2': 14, 'arm_1': 11}\n",
      "0.2 {'arm_3': 0.3488372093023256, 'arm_2': 0.4635193133047209, 'arm_1': 0.40740740740740744} {'arm_3': 43, 'arm_2': 233, 'arm_1': 27}\n",
      "0.3 {'arm_3': 0.3620689655172413, 'arm_2': 0.4636363636363638, 'arm_1': 0.43999999999999995} {'arm_3': 58, 'arm_2': 220, 'arm_1': 25}\n",
      "0.4 {'arm_3': 0.45410628019323696, 'arm_2': 0.45454545454545453, 'arm_1': 0.3846153846153846} {'arm_3': 207, 'arm_2': 44, 'arm_1': 52}\n",
      "0.5 {'arm_3': 0.4635416666666669, 'arm_2': 0.44642857142857123, 'arm_1': 0.3636363636363635} {'arm_3': 192, 'arm_2': 56, 'arm_1': 55}\n",
      "0.6 {'arm_3': 0.37313432835820903, 'arm_2': 0.39062500000000006, 'arm_1': 0.48837209302325557} {'arm_3': 67, 'arm_2': 64, 'arm_1': 172}\n",
      "0.7 {'arm_3': 0.4999999999999997, 'arm_2': 0.4252873563218389, 'arm_1': 0.36250000000000004} {'arm_3': 136, 'arm_2': 87, 'arm_1': 80}\n",
      "0.8 {'arm_3': 0.45555555555555544, 'arm_2': 0.5000000000000001, 'arm_1': 0.33734939759036153} {'arm_3': 90, 'arm_2': 130, 'arm_1': 83}\n",
      "0.9 {'arm_3': 0.5338983050847458, 'arm_2': 0.372340425531915, 'arm_1': 0.39560439560439564} {'arm_3': 118, 'arm_2': 94, 'arm_1': 91}\n"
     ]
    }
   ],
   "source": [
    "list3 = []\n",
    "list2 = []\n",
    "list1 = []\n",
    "\n",
    "for epsilon in range(1, 10):\n",
    "    rewards, counts = epsilon_greedy(data, epsilon/10)\n",
    "    list3.append(counts['arm_3'])\n",
    "    list2.append(counts['arm_2'])\n",
    "    list1.append(counts['arm_1'])\n",
    "    print(epsilon/10, rewards, counts)"
   ]
  },
  {
   "cell_type": "code",
   "execution_count": 20,
   "metadata": {},
   "outputs": [
    {
     "data": {
      "text/plain": [
       "<matplotlib.legend.Legend at 0x14b80d590>"
      ]
     },
     "execution_count": 20,
     "metadata": {},
     "output_type": "execute_result"
    },
    {
     "data": {
      "image/png": "[encoded data removed]",
      "text/plain": [
       "<Figure size 640x480 with 1 Axes>"
      ]
     },
     "metadata": {},
     "output_type": "display_data"
    }
   ],
   "source": [
    "# Plot list1, list2, and list3\n",
    "plt.plot(list1, label='arm_1')\n",
    "plt.plot(list2, label='arm_2')\n",
    "plt.plot(list3, label='arm_3')\n",
    "plt.legend()"
   ]
  },
  {
   "cell_type": "code",
   "execution_count": null,
   "metadata": {},
   "outputs": [],
   "source": [
    "# Implement a Multi-Arm Bandit Algorithm to determine the best arm\n",
    "# Implement a random selection algorithm to compare the results\n",
    "# Implement a greedy algorithm to compare the results\n",
    "# Implement an epsilon-greedy algorithm to compare the results\n",
    "# Implement a UCB1 algorithm to compare the results\n",
    "# Implement a Thompson Sampling algorithm to compare the results\n",
    "# Implement a Bayesian Bandit algorithm to compare the results\n",
    "# Implement a Contextual Bandit algorithm to compare the results\n",
    "# Implement a LinUCB algorithm to compare the results\n",
    "# Implement a LinThompson algorithm to compare the results\n",
    "# Implement a LinBayes algorithm to compare the results\n",
    "# Implement a LinUCB Contextual Bandit algorithm to compare the results\n",
    "# Implement a LinThompson Contextual Bandit algorithm to compare the results"
   ]
  }
 ],
 "metadata": {
  "kernelspec": {
   "display_name": "base",
   "language": "python",
   "name": "python3"
  },
  "language_info": {
   "codemirror_mode": {
    "name": "ipython",
    "version": 3
   },
   "file_extension": ".py",
   "mimetype": "text/x-python",
   "name": "python",
   "nbconvert_exporter": "python",
   "pygments_lexer": "ipython3",
   "version": "3.11.5"
  }
 },
 "nbformat": 4,
 "nbformat_minor": 2
}
